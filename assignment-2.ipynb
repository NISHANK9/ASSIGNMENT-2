{
 "cells": [
  {
   "cell_type": "code",
   "execution_count": 1,
   "id": "a7b08c9b",
   "metadata": {
    "_cell_guid": "b1076dfc-b9ad-4769-8c92-a6c4dae69d19",
    "_uuid": "8f2839f25d086af736a60e9eeb907d3b93b6e0e5",
    "execution": {
     "iopub.execute_input": "2022-10-28T22:33:47.643864Z",
     "iopub.status.busy": "2022-10-28T22:33:47.643378Z",
     "iopub.status.idle": "2022-10-28T22:33:48.645665Z",
     "shell.execute_reply": "2022-10-28T22:33:48.644337Z"
    },
    "papermill": {
     "duration": 1.012374,
     "end_time": "2022-10-28T22:33:48.647942",
     "exception": false,
     "start_time": "2022-10-28T22:33:47.635568",
     "status": "completed"
    },
    "tags": []
   },
   "outputs": [
    {
     "name": "stdout",
     "output_type": "stream",
     "text": [
      "/kaggle/input/most-runs-in-cricket/most_runs_in_cricket.csv\n"
     ]
    }
   ],
   "source": [
    "# This Python 3 environment comes with many helpful analytics libraries installed\n",
    "# It is defined by the kaggle/python Docker image: https://github.com/kaggle/docker-python\n",
    "# For example, here's several helpful packages to load\n",
    "\n",
    "import numpy as np # linear algebra\n",
    "import pandas as pd # data processing, CSV file I/O (e.g. pd.read_csv)\n",
    "import matplotlib.pyplot as plt\n",
    "import seaborn as sns\n",
    "# Input data files are available in the read-only \"../input/\" directory\n",
    "# For example, running this (by clicking run or pressing Shift+Enter) will list all files under the input directory\n",
    "\n",
    "import os\n",
    "for dirname, _, filenames in os.walk('/kaggle/input'):\n",
    "    for filename in filenames:\n",
    "        print(os.path.join(dirname, filename))\n",
    "\n",
    "# You can write up to 20GB to the current directory (/kaggle/working/) that gets preserved as output when you create a version using \"Save & Run All\" \n",
    "# You can also write temporary files to /kaggle/temp/, but they won't be saved outside of the current session"
   ]
  },
  {
   "cell_type": "code",
   "execution_count": 2,
   "id": "06e7880d",
   "metadata": {
    "execution": {
     "iopub.execute_input": "2022-10-28T22:33:48.660195Z",
     "iopub.status.busy": "2022-10-28T22:33:48.659538Z",
     "iopub.status.idle": "2022-10-28T22:33:48.709642Z",
     "shell.execute_reply": "2022-10-28T22:33:48.708647Z"
    },
    "papermill": {
     "duration": 0.058535,
     "end_time": "2022-10-28T22:33:48.711742",
     "exception": false,
     "start_time": "2022-10-28T22:33:48.653207",
     "status": "completed"
    },
    "tags": []
   },
   "outputs": [
    {
     "data": {
      "text/html": [
       "<div>\n",
       "<style scoped>\n",
       "    .dataframe tbody tr th:only-of-type {\n",
       "        vertical-align: middle;\n",
       "    }\n",
       "\n",
       "    .dataframe tbody tr th {\n",
       "        vertical-align: top;\n",
       "    }\n",
       "\n",
       "    .dataframe thead th {\n",
       "        text-align: right;\n",
       "    }\n",
       "</style>\n",
       "<table border=\"1\" class=\"dataframe\">\n",
       "  <thead>\n",
       "    <tr style=\"text-align: right;\">\n",
       "      <th></th>\n",
       "      <th>Unnamed: 0</th>\n",
       "      <th>Player</th>\n",
       "      <th>Span</th>\n",
       "      <th>Mat</th>\n",
       "      <th>Inns</th>\n",
       "      <th>NO</th>\n",
       "      <th>Runs</th>\n",
       "      <th>HS</th>\n",
       "      <th>Ave</th>\n",
       "      <th>BF</th>\n",
       "      <th>SR</th>\n",
       "      <th>100</th>\n",
       "      <th>50</th>\n",
       "      <th>0</th>\n",
       "      <th>4s</th>\n",
       "      <th>6s</th>\n",
       "    </tr>\n",
       "  </thead>\n",
       "  <tbody>\n",
       "    <tr>\n",
       "      <th>0</th>\n",
       "      <td>0</td>\n",
       "      <td>SR Tendulkar (INDIA)</td>\n",
       "      <td>1989-2013</td>\n",
       "      <td>664</td>\n",
       "      <td>782</td>\n",
       "      <td>74</td>\n",
       "      <td>34357</td>\n",
       "      <td>248</td>\n",
       "      <td>48.52</td>\n",
       "      <td>50817+</td>\n",
       "      <td>67.58</td>\n",
       "      <td>100</td>\n",
       "      <td>164</td>\n",
       "      <td>34</td>\n",
       "      <td>4076</td>\n",
       "      <td>264</td>\n",
       "    </tr>\n",
       "    <tr>\n",
       "      <th>1</th>\n",
       "      <td>1</td>\n",
       "      <td>KC Sangakkara (Asia/ICC/SL)</td>\n",
       "      <td>2000-2015</td>\n",
       "      <td>594</td>\n",
       "      <td>666</td>\n",
       "      <td>67</td>\n",
       "      <td>28016</td>\n",
       "      <td>319</td>\n",
       "      <td>46.77</td>\n",
       "      <td>42086</td>\n",
       "      <td>66.56</td>\n",
       "      <td>63</td>\n",
       "      <td>153</td>\n",
       "      <td>28</td>\n",
       "      <td>3015</td>\n",
       "      <td>159</td>\n",
       "    </tr>\n",
       "    <tr>\n",
       "      <th>2</th>\n",
       "      <td>2</td>\n",
       "      <td>RT Ponting (AUS/ICC)</td>\n",
       "      <td>1995-2012</td>\n",
       "      <td>560</td>\n",
       "      <td>668</td>\n",
       "      <td>70</td>\n",
       "      <td>27483</td>\n",
       "      <td>257</td>\n",
       "      <td>45.95</td>\n",
       "      <td>40130</td>\n",
       "      <td>68.48</td>\n",
       "      <td>71</td>\n",
       "      <td>146</td>\n",
       "      <td>39</td>\n",
       "      <td>2781</td>\n",
       "      <td>246</td>\n",
       "    </tr>\n",
       "    <tr>\n",
       "      <th>3</th>\n",
       "      <td>3</td>\n",
       "      <td>DPMD Jayawardene (Asia/SL)</td>\n",
       "      <td>1997-2015</td>\n",
       "      <td>652</td>\n",
       "      <td>725</td>\n",
       "      <td>62</td>\n",
       "      <td>25957</td>\n",
       "      <td>374</td>\n",
       "      <td>39.15</td>\n",
       "      <td>40100</td>\n",
       "      <td>64.73</td>\n",
       "      <td>54</td>\n",
       "      <td>136</td>\n",
       "      <td>47</td>\n",
       "      <td>2679</td>\n",
       "      <td>170</td>\n",
       "    </tr>\n",
       "    <tr>\n",
       "      <th>4</th>\n",
       "      <td>4</td>\n",
       "      <td>JH Kallis (Afr/ICC/SA)</td>\n",
       "      <td>1995-2014</td>\n",
       "      <td>519</td>\n",
       "      <td>617</td>\n",
       "      <td>97</td>\n",
       "      <td>25534</td>\n",
       "      <td>224</td>\n",
       "      <td>49.10</td>\n",
       "      <td>45346</td>\n",
       "      <td>56.30</td>\n",
       "      <td>62</td>\n",
       "      <td>149</td>\n",
       "      <td>33</td>\n",
       "      <td>2455</td>\n",
       "      <td>254</td>\n",
       "    </tr>\n",
       "    <tr>\n",
       "      <th>...</th>\n",
       "      <td>...</td>\n",
       "      <td>...</td>\n",
       "      <td>...</td>\n",
       "      <td>...</td>\n",
       "      <td>...</td>\n",
       "      <td>...</td>\n",
       "      <td>...</td>\n",
       "      <td>...</td>\n",
       "      <td>...</td>\n",
       "      <td>...</td>\n",
       "      <td>...</td>\n",
       "      <td>...</td>\n",
       "      <td>...</td>\n",
       "      <td>...</td>\n",
       "      <td>...</td>\n",
       "      <td>...</td>\n",
       "    </tr>\n",
       "    <tr>\n",
       "      <th>83</th>\n",
       "      <td>83</td>\n",
       "      <td>DB Vengsarkar (INDIA)</td>\n",
       "      <td>1976-1992</td>\n",
       "      <td>245</td>\n",
       "      <td>305</td>\n",
       "      <td>41</td>\n",
       "      <td>10376</td>\n",
       "      <td>166</td>\n",
       "      <td>39.30</td>\n",
       "      <td>15989+</td>\n",
       "      <td>50.04</td>\n",
       "      <td>18</td>\n",
       "      <td>58</td>\n",
       "      <td>22</td>\n",
       "      <td>737</td>\n",
       "      <td>41</td>\n",
       "    </tr>\n",
       "    <tr>\n",
       "      <th>84</th>\n",
       "      <td>84</td>\n",
       "      <td>ME Trescothick (ENG)</td>\n",
       "      <td>2000-2006</td>\n",
       "      <td>202</td>\n",
       "      <td>268</td>\n",
       "      <td>16</td>\n",
       "      <td>10326</td>\n",
       "      <td>219</td>\n",
       "      <td>40.97</td>\n",
       "      <td>15903</td>\n",
       "      <td>64.93</td>\n",
       "      <td>26</td>\n",
       "      <td>52</td>\n",
       "      <td>25</td>\n",
       "      <td>1382</td>\n",
       "      <td>84</td>\n",
       "    </tr>\n",
       "    <tr>\n",
       "      <th>85</th>\n",
       "      <td>85</td>\n",
       "      <td>G Gambhir (INDIA)</td>\n",
       "      <td>2003-2016</td>\n",
       "      <td>242</td>\n",
       "      <td>283</td>\n",
       "      <td>18</td>\n",
       "      <td>10324</td>\n",
       "      <td>206</td>\n",
       "      <td>38.95</td>\n",
       "      <td>14994</td>\n",
       "      <td>68.85</td>\n",
       "      <td>20</td>\n",
       "      <td>63</td>\n",
       "      <td>20</td>\n",
       "      <td>1188</td>\n",
       "      <td>37</td>\n",
       "    </tr>\n",
       "    <tr>\n",
       "      <th>86</th>\n",
       "      <td>86</td>\n",
       "      <td>MD Crowe (NZ)</td>\n",
       "      <td>1982-1995</td>\n",
       "      <td>220</td>\n",
       "      <td>271</td>\n",
       "      <td>29</td>\n",
       "      <td>10148</td>\n",
       "      <td>299</td>\n",
       "      <td>41.93</td>\n",
       "      <td>18666</td>\n",
       "      <td>54.36</td>\n",
       "      <td>21</td>\n",
       "      <td>52</td>\n",
       "      <td>12</td>\n",
       "      <td>1037</td>\n",
       "      <td>56</td>\n",
       "    </tr>\n",
       "    <tr>\n",
       "      <th>87</th>\n",
       "      <td>87</td>\n",
       "      <td>GW Flower (ZIM)</td>\n",
       "      <td>1992-2010</td>\n",
       "      <td>288</td>\n",
       "      <td>337</td>\n",
       "      <td>24</td>\n",
       "      <td>10028</td>\n",
       "      <td>201</td>\n",
       "      <td>32.03</td>\n",
       "      <td>19736</td>\n",
       "      <td>50.81</td>\n",
       "      <td>12</td>\n",
       "      <td>55</td>\n",
       "      <td>34</td>\n",
       "      <td>906</td>\n",
       "      <td>53</td>\n",
       "    </tr>\n",
       "  </tbody>\n",
       "</table>\n",
       "<p>88 rows × 16 columns</p>\n",
       "</div>"
      ],
      "text/plain": [
       "    Unnamed: 0                       Player       Span  Mat  Inns  NO   Runs  \\\n",
       "0            0         SR Tendulkar (INDIA)  1989-2013  664   782  74  34357   \n",
       "1            1  KC Sangakkara (Asia/ICC/SL)  2000-2015  594   666  67  28016   \n",
       "2            2         RT Ponting (AUS/ICC)  1995-2012  560   668  70  27483   \n",
       "3            3   DPMD Jayawardene (Asia/SL)  1997-2015  652   725  62  25957   \n",
       "4            4       JH Kallis (Afr/ICC/SA)  1995-2014  519   617  97  25534   \n",
       "..         ...                          ...        ...  ...   ...  ..    ...   \n",
       "83          83        DB Vengsarkar (INDIA)  1976-1992  245   305  41  10376   \n",
       "84          84         ME Trescothick (ENG)  2000-2006  202   268  16  10326   \n",
       "85          85            G Gambhir (INDIA)  2003-2016  242   283  18  10324   \n",
       "86          86                MD Crowe (NZ)  1982-1995  220   271  29  10148   \n",
       "87          87              GW Flower (ZIM)  1992-2010  288   337  24  10028   \n",
       "\n",
       "     HS    Ave      BF     SR  100   50   0    4s   6s  \n",
       "0   248  48.52  50817+  67.58  100  164  34  4076  264  \n",
       "1   319  46.77   42086  66.56   63  153  28  3015  159  \n",
       "2   257  45.95   40130  68.48   71  146  39  2781  246  \n",
       "3   374  39.15   40100  64.73   54  136  47  2679  170  \n",
       "4   224  49.10   45346  56.30   62  149  33  2455  254  \n",
       "..  ...    ...     ...    ...  ...  ...  ..   ...  ...  \n",
       "83  166  39.30  15989+  50.04   18   58  22   737   41  \n",
       "84  219  40.97   15903  64.93   26   52  25  1382   84  \n",
       "85  206  38.95   14994  68.85   20   63  20  1188   37  \n",
       "86  299  41.93   18666  54.36   21   52  12  1037   56  \n",
       "87  201  32.03   19736  50.81   12   55  34   906   53  \n",
       "\n",
       "[88 rows x 16 columns]"
      ]
     },
     "execution_count": 2,
     "metadata": {},
     "output_type": "execute_result"
    }
   ],
   "source": [
    "df=pd.read_csv('../input/most-runs-in-cricket/most_runs_in_cricket.csv',parse_dates=['Span'])\n",
    "df"
   ]
  },
  {
   "cell_type": "code",
   "execution_count": 3,
   "id": "fe178048",
   "metadata": {
    "execution": {
     "iopub.execute_input": "2022-10-28T22:33:48.725109Z",
     "iopub.status.busy": "2022-10-28T22:33:48.724696Z",
     "iopub.status.idle": "2022-10-28T22:33:48.735973Z",
     "shell.execute_reply": "2022-10-28T22:33:48.734978Z"
    },
    "papermill": {
     "duration": 0.021006,
     "end_time": "2022-10-28T22:33:48.738539",
     "exception": false,
     "start_time": "2022-10-28T22:33:48.717533",
     "status": "completed"
    },
    "tags": []
   },
   "outputs": [],
   "source": [
    "df.drop(['Unnamed: 0'],axis=1,inplace=True)"
   ]
  },
  {
   "cell_type": "code",
   "execution_count": 4,
   "id": "912eeb12",
   "metadata": {
    "execution": {
     "iopub.execute_input": "2022-10-28T22:33:48.754077Z",
     "iopub.status.busy": "2022-10-28T22:33:48.753325Z",
     "iopub.status.idle": "2022-10-28T22:33:48.775306Z",
     "shell.execute_reply": "2022-10-28T22:33:48.774091Z"
    },
    "papermill": {
     "duration": 0.031424,
     "end_time": "2022-10-28T22:33:48.777400",
     "exception": false,
     "start_time": "2022-10-28T22:33:48.745976",
     "status": "completed"
    },
    "tags": []
   },
   "outputs": [
    {
     "data": {
      "text/html": [
       "<div>\n",
       "<style scoped>\n",
       "    .dataframe tbody tr th:only-of-type {\n",
       "        vertical-align: middle;\n",
       "    }\n",
       "\n",
       "    .dataframe tbody tr th {\n",
       "        vertical-align: top;\n",
       "    }\n",
       "\n",
       "    .dataframe thead th {\n",
       "        text-align: right;\n",
       "    }\n",
       "</style>\n",
       "<table border=\"1\" class=\"dataframe\">\n",
       "  <thead>\n",
       "    <tr style=\"text-align: right;\">\n",
       "      <th></th>\n",
       "      <th>Player</th>\n",
       "      <th>Span</th>\n",
       "      <th>Mat</th>\n",
       "      <th>Inns</th>\n",
       "      <th>NO</th>\n",
       "      <th>Runs</th>\n",
       "      <th>HS</th>\n",
       "      <th>Ave</th>\n",
       "      <th>BF</th>\n",
       "      <th>SR</th>\n",
       "      <th>100</th>\n",
       "      <th>50</th>\n",
       "      <th>0</th>\n",
       "      <th>4s</th>\n",
       "      <th>6s</th>\n",
       "    </tr>\n",
       "  </thead>\n",
       "  <tbody>\n",
       "    <tr>\n",
       "      <th>0</th>\n",
       "      <td>SR Tendulkar (INDIA)</td>\n",
       "      <td>1989-2013</td>\n",
       "      <td>664</td>\n",
       "      <td>782</td>\n",
       "      <td>74</td>\n",
       "      <td>34357</td>\n",
       "      <td>248</td>\n",
       "      <td>48.52</td>\n",
       "      <td>50817+</td>\n",
       "      <td>67.58</td>\n",
       "      <td>100</td>\n",
       "      <td>164</td>\n",
       "      <td>34</td>\n",
       "      <td>4076</td>\n",
       "      <td>264</td>\n",
       "    </tr>\n",
       "    <tr>\n",
       "      <th>1</th>\n",
       "      <td>KC Sangakkara (Asia/ICC/SL)</td>\n",
       "      <td>2000-2015</td>\n",
       "      <td>594</td>\n",
       "      <td>666</td>\n",
       "      <td>67</td>\n",
       "      <td>28016</td>\n",
       "      <td>319</td>\n",
       "      <td>46.77</td>\n",
       "      <td>42086</td>\n",
       "      <td>66.56</td>\n",
       "      <td>63</td>\n",
       "      <td>153</td>\n",
       "      <td>28</td>\n",
       "      <td>3015</td>\n",
       "      <td>159</td>\n",
       "    </tr>\n",
       "    <tr>\n",
       "      <th>2</th>\n",
       "      <td>RT Ponting (AUS/ICC)</td>\n",
       "      <td>1995-2012</td>\n",
       "      <td>560</td>\n",
       "      <td>668</td>\n",
       "      <td>70</td>\n",
       "      <td>27483</td>\n",
       "      <td>257</td>\n",
       "      <td>45.95</td>\n",
       "      <td>40130</td>\n",
       "      <td>68.48</td>\n",
       "      <td>71</td>\n",
       "      <td>146</td>\n",
       "      <td>39</td>\n",
       "      <td>2781</td>\n",
       "      <td>246</td>\n",
       "    </tr>\n",
       "    <tr>\n",
       "      <th>3</th>\n",
       "      <td>DPMD Jayawardene (Asia/SL)</td>\n",
       "      <td>1997-2015</td>\n",
       "      <td>652</td>\n",
       "      <td>725</td>\n",
       "      <td>62</td>\n",
       "      <td>25957</td>\n",
       "      <td>374</td>\n",
       "      <td>39.15</td>\n",
       "      <td>40100</td>\n",
       "      <td>64.73</td>\n",
       "      <td>54</td>\n",
       "      <td>136</td>\n",
       "      <td>47</td>\n",
       "      <td>2679</td>\n",
       "      <td>170</td>\n",
       "    </tr>\n",
       "    <tr>\n",
       "      <th>4</th>\n",
       "      <td>JH Kallis (Afr/ICC/SA)</td>\n",
       "      <td>1995-2014</td>\n",
       "      <td>519</td>\n",
       "      <td>617</td>\n",
       "      <td>97</td>\n",
       "      <td>25534</td>\n",
       "      <td>224</td>\n",
       "      <td>49.10</td>\n",
       "      <td>45346</td>\n",
       "      <td>56.30</td>\n",
       "      <td>62</td>\n",
       "      <td>149</td>\n",
       "      <td>33</td>\n",
       "      <td>2455</td>\n",
       "      <td>254</td>\n",
       "    </tr>\n",
       "    <tr>\n",
       "      <th>...</th>\n",
       "      <td>...</td>\n",
       "      <td>...</td>\n",
       "      <td>...</td>\n",
       "      <td>...</td>\n",
       "      <td>...</td>\n",
       "      <td>...</td>\n",
       "      <td>...</td>\n",
       "      <td>...</td>\n",
       "      <td>...</td>\n",
       "      <td>...</td>\n",
       "      <td>...</td>\n",
       "      <td>...</td>\n",
       "      <td>...</td>\n",
       "      <td>...</td>\n",
       "      <td>...</td>\n",
       "    </tr>\n",
       "    <tr>\n",
       "      <th>83</th>\n",
       "      <td>DB Vengsarkar (INDIA)</td>\n",
       "      <td>1976-1992</td>\n",
       "      <td>245</td>\n",
       "      <td>305</td>\n",
       "      <td>41</td>\n",
       "      <td>10376</td>\n",
       "      <td>166</td>\n",
       "      <td>39.30</td>\n",
       "      <td>15989+</td>\n",
       "      <td>50.04</td>\n",
       "      <td>18</td>\n",
       "      <td>58</td>\n",
       "      <td>22</td>\n",
       "      <td>737</td>\n",
       "      <td>41</td>\n",
       "    </tr>\n",
       "    <tr>\n",
       "      <th>84</th>\n",
       "      <td>ME Trescothick (ENG)</td>\n",
       "      <td>2000-2006</td>\n",
       "      <td>202</td>\n",
       "      <td>268</td>\n",
       "      <td>16</td>\n",
       "      <td>10326</td>\n",
       "      <td>219</td>\n",
       "      <td>40.97</td>\n",
       "      <td>15903</td>\n",
       "      <td>64.93</td>\n",
       "      <td>26</td>\n",
       "      <td>52</td>\n",
       "      <td>25</td>\n",
       "      <td>1382</td>\n",
       "      <td>84</td>\n",
       "    </tr>\n",
       "    <tr>\n",
       "      <th>85</th>\n",
       "      <td>G Gambhir (INDIA)</td>\n",
       "      <td>2003-2016</td>\n",
       "      <td>242</td>\n",
       "      <td>283</td>\n",
       "      <td>18</td>\n",
       "      <td>10324</td>\n",
       "      <td>206</td>\n",
       "      <td>38.95</td>\n",
       "      <td>14994</td>\n",
       "      <td>68.85</td>\n",
       "      <td>20</td>\n",
       "      <td>63</td>\n",
       "      <td>20</td>\n",
       "      <td>1188</td>\n",
       "      <td>37</td>\n",
       "    </tr>\n",
       "    <tr>\n",
       "      <th>86</th>\n",
       "      <td>MD Crowe (NZ)</td>\n",
       "      <td>1982-1995</td>\n",
       "      <td>220</td>\n",
       "      <td>271</td>\n",
       "      <td>29</td>\n",
       "      <td>10148</td>\n",
       "      <td>299</td>\n",
       "      <td>41.93</td>\n",
       "      <td>18666</td>\n",
       "      <td>54.36</td>\n",
       "      <td>21</td>\n",
       "      <td>52</td>\n",
       "      <td>12</td>\n",
       "      <td>1037</td>\n",
       "      <td>56</td>\n",
       "    </tr>\n",
       "    <tr>\n",
       "      <th>87</th>\n",
       "      <td>GW Flower (ZIM)</td>\n",
       "      <td>1992-2010</td>\n",
       "      <td>288</td>\n",
       "      <td>337</td>\n",
       "      <td>24</td>\n",
       "      <td>10028</td>\n",
       "      <td>201</td>\n",
       "      <td>32.03</td>\n",
       "      <td>19736</td>\n",
       "      <td>50.81</td>\n",
       "      <td>12</td>\n",
       "      <td>55</td>\n",
       "      <td>34</td>\n",
       "      <td>906</td>\n",
       "      <td>53</td>\n",
       "    </tr>\n",
       "  </tbody>\n",
       "</table>\n",
       "<p>88 rows × 15 columns</p>\n",
       "</div>"
      ],
      "text/plain": [
       "                         Player       Span  Mat  Inns  NO   Runs   HS    Ave  \\\n",
       "0          SR Tendulkar (INDIA)  1989-2013  664   782  74  34357  248  48.52   \n",
       "1   KC Sangakkara (Asia/ICC/SL)  2000-2015  594   666  67  28016  319  46.77   \n",
       "2          RT Ponting (AUS/ICC)  1995-2012  560   668  70  27483  257  45.95   \n",
       "3    DPMD Jayawardene (Asia/SL)  1997-2015  652   725  62  25957  374  39.15   \n",
       "4        JH Kallis (Afr/ICC/SA)  1995-2014  519   617  97  25534  224  49.10   \n",
       "..                          ...        ...  ...   ...  ..    ...  ...    ...   \n",
       "83        DB Vengsarkar (INDIA)  1976-1992  245   305  41  10376  166  39.30   \n",
       "84         ME Trescothick (ENG)  2000-2006  202   268  16  10326  219  40.97   \n",
       "85            G Gambhir (INDIA)  2003-2016  242   283  18  10324  206  38.95   \n",
       "86                MD Crowe (NZ)  1982-1995  220   271  29  10148  299  41.93   \n",
       "87              GW Flower (ZIM)  1992-2010  288   337  24  10028  201  32.03   \n",
       "\n",
       "        BF     SR  100   50   0    4s   6s  \n",
       "0   50817+  67.58  100  164  34  4076  264  \n",
       "1    42086  66.56   63  153  28  3015  159  \n",
       "2    40130  68.48   71  146  39  2781  246  \n",
       "3    40100  64.73   54  136  47  2679  170  \n",
       "4    45346  56.30   62  149  33  2455  254  \n",
       "..     ...    ...  ...  ...  ..   ...  ...  \n",
       "83  15989+  50.04   18   58  22   737   41  \n",
       "84   15903  64.93   26   52  25  1382   84  \n",
       "85   14994  68.85   20   63  20  1188   37  \n",
       "86   18666  54.36   21   52  12  1037   56  \n",
       "87   19736  50.81   12   55  34   906   53  \n",
       "\n",
       "[88 rows x 15 columns]"
      ]
     },
     "execution_count": 4,
     "metadata": {},
     "output_type": "execute_result"
    }
   ],
   "source": [
    "df"
   ]
  },
  {
   "cell_type": "code",
   "execution_count": 5,
   "id": "41247098",
   "metadata": {
    "execution": {
     "iopub.execute_input": "2022-10-28T22:33:48.791275Z",
     "iopub.status.busy": "2022-10-28T22:33:48.790909Z",
     "iopub.status.idle": "2022-10-28T22:33:48.803547Z",
     "shell.execute_reply": "2022-10-28T22:33:48.802588Z"
    },
    "papermill": {
     "duration": 0.022992,
     "end_time": "2022-10-28T22:33:48.806489",
     "exception": false,
     "start_time": "2022-10-28T22:33:48.783497",
     "status": "completed"
    },
    "tags": []
   },
   "outputs": [
    {
     "data": {
      "text/html": [
       "<div>\n",
       "<style scoped>\n",
       "    .dataframe tbody tr th:only-of-type {\n",
       "        vertical-align: middle;\n",
       "    }\n",
       "\n",
       "    .dataframe tbody tr th {\n",
       "        vertical-align: top;\n",
       "    }\n",
       "\n",
       "    .dataframe thead th {\n",
       "        text-align: right;\n",
       "    }\n",
       "</style>\n",
       "<table border=\"1\" class=\"dataframe\">\n",
       "  <thead>\n",
       "    <tr style=\"text-align: right;\">\n",
       "      <th></th>\n",
       "      <th>Player</th>\n",
       "      <th>Runs</th>\n",
       "    </tr>\n",
       "  </thead>\n",
       "  <tbody>\n",
       "    <tr>\n",
       "      <th>0</th>\n",
       "      <td>SR Tendulkar (INDIA)</td>\n",
       "      <td>34357</td>\n",
       "    </tr>\n",
       "    <tr>\n",
       "      <th>1</th>\n",
       "      <td>KC Sangakkara (Asia/ICC/SL)</td>\n",
       "      <td>28016</td>\n",
       "    </tr>\n",
       "    <tr>\n",
       "      <th>2</th>\n",
       "      <td>RT Ponting (AUS/ICC)</td>\n",
       "      <td>27483</td>\n",
       "    </tr>\n",
       "    <tr>\n",
       "      <th>3</th>\n",
       "      <td>DPMD Jayawardene (Asia/SL)</td>\n",
       "      <td>25957</td>\n",
       "    </tr>\n",
       "    <tr>\n",
       "      <th>4</th>\n",
       "      <td>JH Kallis (Afr/ICC/SA)</td>\n",
       "      <td>25534</td>\n",
       "    </tr>\n",
       "  </tbody>\n",
       "</table>\n",
       "</div>"
      ],
      "text/plain": [
       "                        Player   Runs\n",
       "0         SR Tendulkar (INDIA)  34357\n",
       "1  KC Sangakkara (Asia/ICC/SL)  28016\n",
       "2         RT Ponting (AUS/ICC)  27483\n",
       "3   DPMD Jayawardene (Asia/SL)  25957\n",
       "4       JH Kallis (Afr/ICC/SA)  25534"
      ]
     },
     "execution_count": 5,
     "metadata": {},
     "output_type": "execute_result"
    }
   ],
   "source": [
    "top_five_highest_runs = df[['Player','Runs']].sort_values(by='Runs',ascending=False)[:5]\n",
    "top_five_highest_runs"
   ]
  },
  {
   "cell_type": "code",
   "execution_count": 6,
   "id": "0286df04",
   "metadata": {
    "execution": {
     "iopub.execute_input": "2022-10-28T22:33:48.821206Z",
     "iopub.status.busy": "2022-10-28T22:33:48.820470Z",
     "iopub.status.idle": "2022-10-28T22:33:49.020552Z",
     "shell.execute_reply": "2022-10-28T22:33:49.019089Z"
    },
    "papermill": {
     "duration": 0.21044,
     "end_time": "2022-10-28T22:33:49.023430",
     "exception": false,
     "start_time": "2022-10-28T22:33:48.812990",
     "status": "completed"
    },
    "tags": []
   },
   "outputs": [
    {
     "data": {
      "image/png": "[encoded data removed]",
      "text/plain": [
       "<Figure size 432x288 with 1 Axes>"
      ]
     },
     "metadata": {
      "needs_background": "light"
     },
     "output_type": "display_data"
    }
   ],
   "source": [
    "sns.barplot(x='Player',y='Runs',data=top_five_highest_runs)\n",
    "plt.xticks(rotation=75)\n",
    "plt.show()"
   ]
  },
  {
   "cell_type": "code",
   "execution_count": 7,
   "id": "a96543db",
   "metadata": {
    "execution": {
     "iopub.execute_input": "2022-10-28T22:33:49.038314Z",
     "iopub.status.busy": "2022-10-28T22:33:49.037652Z",
     "iopub.status.idle": "2022-10-28T22:33:49.048116Z",
     "shell.execute_reply": "2022-10-28T22:33:49.046919Z"
    },
    "papermill": {
     "duration": 0.0205,
     "end_time": "2022-10-28T22:33:49.050680",
     "exception": false,
     "start_time": "2022-10-28T22:33:49.030180",
     "status": "completed"
    },
    "tags": []
   },
   "outputs": [
    {
     "data": {
      "text/html": [
       "<div>\n",
       "<style scoped>\n",
       "    .dataframe tbody tr th:only-of-type {\n",
       "        vertical-align: middle;\n",
       "    }\n",
       "\n",
       "    .dataframe tbody tr th {\n",
       "        vertical-align: top;\n",
       "    }\n",
       "\n",
       "    .dataframe thead th {\n",
       "        text-align: right;\n",
       "    }\n",
       "</style>\n",
       "<table border=\"1\" class=\"dataframe\">\n",
       "  <thead>\n",
       "    <tr style=\"text-align: right;\">\n",
       "      <th></th>\n",
       "      <th>Player</th>\n",
       "      <th>Mat</th>\n",
       "    </tr>\n",
       "  </thead>\n",
       "  <tbody>\n",
       "    <tr>\n",
       "      <th>0</th>\n",
       "      <td>SR Tendulkar (INDIA)</td>\n",
       "      <td>664</td>\n",
       "    </tr>\n",
       "    <tr>\n",
       "      <th>3</th>\n",
       "      <td>DPMD Jayawardene (Asia/SL)</td>\n",
       "      <td>652</td>\n",
       "    </tr>\n",
       "    <tr>\n",
       "      <th>1</th>\n",
       "      <td>KC Sangakkara (Asia/ICC/SL)</td>\n",
       "      <td>594</td>\n",
       "    </tr>\n",
       "    <tr>\n",
       "      <th>8</th>\n",
       "      <td>ST Jayasuriya (Asia/SL)</td>\n",
       "      <td>586</td>\n",
       "    </tr>\n",
       "    <tr>\n",
       "      <th>2</th>\n",
       "      <td>RT Ponting (AUS/ICC)</td>\n",
       "      <td>560</td>\n",
       "    </tr>\n",
       "  </tbody>\n",
       "</table>\n",
       "</div>"
      ],
      "text/plain": [
       "                        Player  Mat\n",
       "0         SR Tendulkar (INDIA)  664\n",
       "3   DPMD Jayawardene (Asia/SL)  652\n",
       "1  KC Sangakkara (Asia/ICC/SL)  594\n",
       "8      ST Jayasuriya (Asia/SL)  586\n",
       "2         RT Ponting (AUS/ICC)  560"
      ]
     },
     "execution_count": 7,
     "metadata": {},
     "output_type": "execute_result"
    }
   ],
   "source": [
    "top_five_matches=df[['Player','Mat']].sort_values(by='Mat',ascending=False)[:5]\n",
    "top_five_matches"
   ]
  },
  {
   "cell_type": "code",
   "execution_count": 8,
   "id": "4503b697",
   "metadata": {
    "execution": {
     "iopub.execute_input": "2022-10-28T22:33:49.067545Z",
     "iopub.status.busy": "2022-10-28T22:33:49.066426Z",
     "iopub.status.idle": "2022-10-28T22:33:49.219746Z",
     "shell.execute_reply": "2022-10-28T22:33:49.218942Z"
    },
    "papermill": {
     "duration": 0.164631,
     "end_time": "2022-10-28T22:33:49.221871",
     "exception": false,
     "start_time": "2022-10-28T22:33:49.057240",
     "status": "completed"
    },
    "tags": []
   },
   "outputs": [
    {
     "data": {
      "image/png": "[encoded data removed]",
      "text/plain": [
       "<Figure size 432x288 with 1 Axes>"
      ]
     },
     "metadata": {
      "needs_background": "light"
     },
     "output_type": "display_data"
    }
   ],
   "source": [
    "sns.barplot(x='Player',y='Mat',data=top_five_matches)\n",
    "plt.xticks(rotation=75)\n",
    "plt.show()"
   ]
  },
  {
   "cell_type": "code",
   "execution_count": 9,
   "id": "c73e8601",
   "metadata": {
    "execution": {
     "iopub.execute_input": "2022-10-28T22:33:49.239835Z",
     "iopub.status.busy": "2022-10-28T22:33:49.239100Z",
     "iopub.status.idle": "2022-10-28T22:33:49.250320Z",
     "shell.execute_reply": "2022-10-28T22:33:49.249196Z"
    },
    "papermill": {
     "duration": 0.023605,
     "end_time": "2022-10-28T22:33:49.252653",
     "exception": false,
     "start_time": "2022-10-28T22:33:49.229048",
     "status": "completed"
    },
    "tags": []
   },
   "outputs": [
    {
     "data": {
      "text/html": [
       "<div>\n",
       "<style scoped>\n",
       "    .dataframe tbody tr th:only-of-type {\n",
       "        vertical-align: middle;\n",
       "    }\n",
       "\n",
       "    .dataframe tbody tr th {\n",
       "        vertical-align: top;\n",
       "    }\n",
       "\n",
       "    .dataframe thead th {\n",
       "        text-align: right;\n",
       "    }\n",
       "</style>\n",
       "<table border=\"1\" class=\"dataframe\">\n",
       "  <thead>\n",
       "    <tr style=\"text-align: right;\">\n",
       "      <th></th>\n",
       "      <th>Player</th>\n",
       "      <th>HS</th>\n",
       "    </tr>\n",
       "  </thead>\n",
       "  <tbody>\n",
       "    <tr>\n",
       "      <th>7</th>\n",
       "      <td>BC Lara (ICC/WI)</td>\n",
       "      <td>400</td>\n",
       "    </tr>\n",
       "    <tr>\n",
       "      <th>38</th>\n",
       "      <td>ML Hayden (AUS/ICC)</td>\n",
       "      <td>380</td>\n",
       "    </tr>\n",
       "    <tr>\n",
       "      <th>3</th>\n",
       "      <td>DPMD Jayawardene (Asia/SL)</td>\n",
       "      <td>374</td>\n",
       "    </tr>\n",
       "    <tr>\n",
       "      <th>8</th>\n",
       "      <td>ST Jayasuriya (Asia/SL)</td>\n",
       "      <td>340</td>\n",
       "    </tr>\n",
       "    <tr>\n",
       "      <th>27</th>\n",
       "      <td>DA Warner (AUS)</td>\n",
       "      <td>335</td>\n",
       "    </tr>\n",
       "  </tbody>\n",
       "</table>\n",
       "</div>"
      ],
      "text/plain": [
       "                        Player   HS\n",
       "7             BC Lara (ICC/WI)  400\n",
       "38         ML Hayden (AUS/ICC)  380\n",
       "3   DPMD Jayawardene (Asia/SL)  374\n",
       "8      ST Jayasuriya (Asia/SL)  340\n",
       "27             DA Warner (AUS)  335"
      ]
     },
     "execution_count": 9,
     "metadata": {},
     "output_type": "execute_result"
    }
   ],
   "source": [
    "top_five_hs= df[['Player','HS']].sort_values(by='HS',ascending=False)[:5]\n",
    "top_five_hs"
   ]
  },
  {
   "cell_type": "code",
   "execution_count": 10,
   "id": "dee743be",
   "metadata": {
    "execution": {
     "iopub.execute_input": "2022-10-28T22:33:49.268984Z",
     "iopub.status.busy": "2022-10-28T22:33:49.268293Z",
     "iopub.status.idle": "2022-10-28T22:33:49.425778Z",
     "shell.execute_reply": "2022-10-28T22:33:49.425083Z"
    },
    "papermill": {
     "duration": 0.168011,
     "end_time": "2022-10-28T22:33:49.427870",
     "exception": false,
     "start_time": "2022-10-28T22:33:49.259859",
     "status": "completed"
    },
    "tags": []
   },
   "outputs": [
    {
     "data": {
      "image/png": "[encoded data removed]",
      "text/plain": [
       "<Figure size 432x288 with 1 Axes>"
      ]
     },
     "metadata": {
      "needs_background": "light"
     },
     "output_type": "display_data"
    }
   ],
   "source": [
    "sns.barplot(x='Player',y='HS',data=top_five_hs)\n",
    "plt.xticks(rotation=75)\n",
    "plt.show()"
   ]
  },
  {
   "cell_type": "code",
   "execution_count": 11,
   "id": "9411e77b",
   "metadata": {
    "execution": {
     "iopub.execute_input": "2022-10-28T22:33:49.445000Z",
     "iopub.status.busy": "2022-10-28T22:33:49.444318Z",
     "iopub.status.idle": "2022-10-28T22:33:49.454570Z",
     "shell.execute_reply": "2022-10-28T22:33:49.453815Z"
    },
    "papermill": {
     "duration": 0.021566,
     "end_time": "2022-10-28T22:33:49.457032",
     "exception": false,
     "start_time": "2022-10-28T22:33:49.435466",
     "status": "completed"
    },
    "tags": []
   },
   "outputs": [
    {
     "data": {
      "text/html": [
       "<div>\n",
       "<style scoped>\n",
       "    .dataframe tbody tr th:only-of-type {\n",
       "        vertical-align: middle;\n",
       "    }\n",
       "\n",
       "    .dataframe tbody tr th {\n",
       "        vertical-align: top;\n",
       "    }\n",
       "\n",
       "    .dataframe thead th {\n",
       "        text-align: right;\n",
       "    }\n",
       "</style>\n",
       "<table border=\"1\" class=\"dataframe\">\n",
       "  <thead>\n",
       "    <tr style=\"text-align: right;\">\n",
       "      <th></th>\n",
       "      <th>Player</th>\n",
       "      <th>NO</th>\n",
       "    </tr>\n",
       "  </thead>\n",
       "  <tbody>\n",
       "    <tr>\n",
       "      <th>22</th>\n",
       "      <td>MS Dhoni (Asia/INDIA)</td>\n",
       "      <td>142</td>\n",
       "    </tr>\n",
       "    <tr>\n",
       "      <th>15</th>\n",
       "      <td>SR Waugh (AUS)</td>\n",
       "      <td>104</td>\n",
       "    </tr>\n",
       "    <tr>\n",
       "      <th>4</th>\n",
       "      <td>JH Kallis (Afr/ICC/SA)</td>\n",
       "      <td>97</td>\n",
       "    </tr>\n",
       "    <tr>\n",
       "      <th>9</th>\n",
       "      <td>S Chanderpaul (WI)</td>\n",
       "      <td>94</td>\n",
       "    </tr>\n",
       "    <tr>\n",
       "      <th>44</th>\n",
       "      <td>AD Mathews (SL)</td>\n",
       "      <td>90</td>\n",
       "    </tr>\n",
       "  </tbody>\n",
       "</table>\n",
       "</div>"
      ],
      "text/plain": [
       "                    Player   NO\n",
       "22   MS Dhoni (Asia/INDIA)  142\n",
       "15          SR Waugh (AUS)  104\n",
       "4   JH Kallis (Afr/ICC/SA)   97\n",
       "9       S Chanderpaul (WI)   94\n",
       "44         AD Mathews (SL)   90"
      ]
     },
     "execution_count": 11,
     "metadata": {},
     "output_type": "execute_result"
    }
   ],
   "source": [
    "top_five_not_out= df[['Player','NO']].sort_values(by='NO',ascending=False)[:5]\n",
    "top_five_not_out"
   ]
  },
  {
   "cell_type": "code",
   "execution_count": 12,
   "id": "1cb8cdb5",
   "metadata": {
    "execution": {
     "iopub.execute_input": "2022-10-28T22:33:49.474038Z",
     "iopub.status.busy": "2022-10-28T22:33:49.473411Z",
     "iopub.status.idle": "2022-10-28T22:33:49.618375Z",
     "shell.execute_reply": "2022-10-28T22:33:49.617584Z"
    },
    "papermill": {
     "duration": 0.156158,
     "end_time": "2022-10-28T22:33:49.620790",
     "exception": false,
     "start_time": "2022-10-28T22:33:49.464632",
     "status": "completed"
    },
    "tags": []
   },
   "outputs": [
    {
     "data": {
      "image/png": "[encoded data removed]",
      "text/plain": [
       "<Figure size 432x288 with 1 Axes>"
      ]
     },
     "metadata": {
      "needs_background": "light"
     },
     "output_type": "display_data"
    }
   ],
   "source": [
    "sns.barplot(x='Player',y='NO',data=top_five_not_out)\n",
    "plt.xticks(rotation=75)\n",
    "plt.show()"
   ]
  },
  {
   "cell_type": "code",
   "execution_count": 13,
   "id": "c04f16b4",
   "metadata": {
    "execution": {
     "iopub.execute_input": "2022-10-28T22:33:49.640070Z",
     "iopub.status.busy": "2022-10-28T22:33:49.639625Z",
     "iopub.status.idle": "2022-10-28T22:33:49.650991Z",
     "shell.execute_reply": "2022-10-28T22:33:49.650042Z"
    },
    "papermill": {
     "duration": 0.023108,
     "end_time": "2022-10-28T22:33:49.652971",
     "exception": false,
     "start_time": "2022-10-28T22:33:49.629863",
     "status": "completed"
    },
    "tags": []
   },
   "outputs": [
    {
     "data": {
      "text/html": [
       "<div>\n",
       "<style scoped>\n",
       "    .dataframe tbody tr th:only-of-type {\n",
       "        vertical-align: middle;\n",
       "    }\n",
       "\n",
       "    .dataframe tbody tr th {\n",
       "        vertical-align: top;\n",
       "    }\n",
       "\n",
       "    .dataframe thead th {\n",
       "        text-align: right;\n",
       "    }\n",
       "</style>\n",
       "<table border=\"1\" class=\"dataframe\">\n",
       "  <thead>\n",
       "    <tr style=\"text-align: right;\">\n",
       "      <th></th>\n",
       "      <th>Player</th>\n",
       "      <th>4s</th>\n",
       "    </tr>\n",
       "  </thead>\n",
       "  <tbody>\n",
       "    <tr>\n",
       "      <th>0</th>\n",
       "      <td>SR Tendulkar (INDIA)</td>\n",
       "      <td>4076</td>\n",
       "    </tr>\n",
       "    <tr>\n",
       "      <th>1</th>\n",
       "      <td>KC Sangakkara (Asia/ICC/SL)</td>\n",
       "      <td>3015</td>\n",
       "    </tr>\n",
       "    <tr>\n",
       "      <th>2</th>\n",
       "      <td>RT Ponting (AUS/ICC)</td>\n",
       "      <td>2781</td>\n",
       "    </tr>\n",
       "    <tr>\n",
       "      <th>3</th>\n",
       "      <td>DPMD Jayawardene (Asia/SL)</td>\n",
       "      <td>2679</td>\n",
       "    </tr>\n",
       "    <tr>\n",
       "      <th>5</th>\n",
       "      <td>R Dravid (Asia/ICC/INDIA)</td>\n",
       "      <td>2604</td>\n",
       "    </tr>\n",
       "  </tbody>\n",
       "</table>\n",
       "</div>"
      ],
      "text/plain": [
       "                        Player    4s\n",
       "0         SR Tendulkar (INDIA)  4076\n",
       "1  KC Sangakkara (Asia/ICC/SL)  3015\n",
       "2         RT Ponting (AUS/ICC)  2781\n",
       "3   DPMD Jayawardene (Asia/SL)  2679\n",
       "5    R Dravid (Asia/ICC/INDIA)  2604"
      ]
     },
     "execution_count": 13,
     "metadata": {},
     "output_type": "execute_result"
    }
   ],
   "source": [
    "top_five_four= df[['Player','4s']].sort_values(by='4s',ascending=False)[:5]\n",
    "top_five_four"
   ]
  },
  {
   "cell_type": "code",
   "execution_count": 14,
   "id": "95e29de0",
   "metadata": {
    "execution": {
     "iopub.execute_input": "2022-10-28T22:33:49.670808Z",
     "iopub.status.busy": "2022-10-28T22:33:49.670369Z",
     "iopub.status.idle": "2022-10-28T22:33:49.832977Z",
     "shell.execute_reply": "2022-10-28T22:33:49.831056Z"
    },
    "papermill": {
     "duration": 0.174909,
     "end_time": "2022-10-28T22:33:49.835950",
     "exception": false,
     "start_time": "2022-10-28T22:33:49.661041",
     "status": "completed"
    },
    "tags": []
   },
   "outputs": [
    {
     "data": {
      "image/png": "[encoded data removed]",
      "text/plain": [
       "<Figure size 432x288 with 1 Axes>"
      ]
     },
     "metadata": {
      "needs_background": "light"
     },
     "output_type": "display_data"
    }
   ],
   "source": [
    "sns.barplot(x='Player',y='4s',data=top_five_four)\n",
    "plt.xticks(rotation=75)\n",
    "plt.show()"
   ]
  },
  {
   "cell_type": "code",
   "execution_count": 15,
   "id": "5086607f",
   "metadata": {
    "execution": {
     "iopub.execute_input": "2022-10-28T22:33:49.854010Z",
     "iopub.status.busy": "2022-10-28T22:33:49.853580Z",
     "iopub.status.idle": "2022-10-28T22:33:49.867013Z",
     "shell.execute_reply": "2022-10-28T22:33:49.865870Z"
    },
    "papermill": {
     "duration": 0.025302,
     "end_time": "2022-10-28T22:33:49.869519",
     "exception": false,
     "start_time": "2022-10-28T22:33:49.844217",
     "status": "completed"
    },
    "tags": []
   },
   "outputs": [
    {
     "data": {
      "text/html": [
       "<div>\n",
       "<style scoped>\n",
       "    .dataframe tbody tr th:only-of-type {\n",
       "        vertical-align: middle;\n",
       "    }\n",
       "\n",
       "    .dataframe tbody tr th {\n",
       "        vertical-align: top;\n",
       "    }\n",
       "\n",
       "    .dataframe thead th {\n",
       "        text-align: right;\n",
       "    }\n",
       "</style>\n",
       "<table border=\"1\" class=\"dataframe\">\n",
       "  <thead>\n",
       "    <tr style=\"text-align: right;\">\n",
       "      <th></th>\n",
       "      <th>Player</th>\n",
       "      <th>6s</th>\n",
       "    </tr>\n",
       "  </thead>\n",
       "  <tbody>\n",
       "    <tr>\n",
       "      <th>12</th>\n",
       "      <td>CH Gayle (ICC/WI)</td>\n",
       "      <td>553</td>\n",
       "    </tr>\n",
       "    <tr>\n",
       "      <th>28</th>\n",
       "      <td>RG Sharma (INDIA)</td>\n",
       "      <td>492</td>\n",
       "    </tr>\n",
       "    <tr>\n",
       "      <th>71</th>\n",
       "      <td>Shahid Afridi (Asia/ICC/PAK)</td>\n",
       "      <td>476</td>\n",
       "    </tr>\n",
       "    <tr>\n",
       "      <th>40</th>\n",
       "      <td>BB McCullum (NZ)</td>\n",
       "      <td>398</td>\n",
       "    </tr>\n",
       "    <tr>\n",
       "      <th>48</th>\n",
       "      <td>MJ Guptill (NZ)</td>\n",
       "      <td>383</td>\n",
       "    </tr>\n",
       "  </tbody>\n",
       "</table>\n",
       "</div>"
      ],
      "text/plain": [
       "                          Player   6s\n",
       "12             CH Gayle (ICC/WI)  553\n",
       "28             RG Sharma (INDIA)  492\n",
       "71  Shahid Afridi (Asia/ICC/PAK)  476\n",
       "40              BB McCullum (NZ)  398\n",
       "48               MJ Guptill (NZ)  383"
      ]
     },
     "execution_count": 15,
     "metadata": {},
     "output_type": "execute_result"
    }
   ],
   "source": [
    "top_five_sixes= df[['Player','6s']].sort_values(by='6s',ascending=False)[:5]\n",
    "top_five_sixes"
   ]
  },
  {
   "cell_type": "code",
   "execution_count": 16,
   "id": "9b129a4a",
   "metadata": {
    "execution": {
     "iopub.execute_input": "2022-10-28T22:33:49.889474Z",
     "iopub.status.busy": "2022-10-28T22:33:49.889079Z",
     "iopub.status.idle": "2022-10-28T22:33:50.035334Z",
     "shell.execute_reply": "2022-10-28T22:33:50.034519Z"
    },
    "papermill": {
     "duration": 0.158687,
     "end_time": "2022-10-28T22:33:50.037528",
     "exception": false,
     "start_time": "2022-10-28T22:33:49.878841",
     "status": "completed"
    },
    "tags": []
   },
   "outputs": [
    {
     "data": {
      "image/png": "[encoded data removed]",
      "text/plain": [
       "<Figure size 432x288 with 1 Axes>"
      ]
     },
     "metadata": {
      "needs_background": "light"
     },
     "output_type": "display_data"
    }
   ],
   "source": [
    "sns.barplot(x='Player',y='6s',data=top_five_sixes)\n",
    "plt.xticks(rotation=75)\n",
    "plt.show()"
   ]
  },
  {
   "cell_type": "code",
   "execution_count": 17,
   "id": "b8d59944",
   "metadata": {
    "execution": {
     "iopub.execute_input": "2022-10-28T22:33:50.060372Z",
     "iopub.status.busy": "2022-10-28T22:33:50.058951Z",
     "iopub.status.idle": "2022-10-28T22:33:50.069917Z",
     "shell.execute_reply": "2022-10-28T22:33:50.069240Z"
    },
    "papermill": {
     "duration": 0.023628,
     "end_time": "2022-10-28T22:33:50.072612",
     "exception": false,
     "start_time": "2022-10-28T22:33:50.048984",
     "status": "completed"
    },
    "tags": []
   },
   "outputs": [
    {
     "data": {
      "text/html": [
       "<div>\n",
       "<style scoped>\n",
       "    .dataframe tbody tr th:only-of-type {\n",
       "        vertical-align: middle;\n",
       "    }\n",
       "\n",
       "    .dataframe tbody tr th {\n",
       "        vertical-align: top;\n",
       "    }\n",
       "\n",
       "    .dataframe thead th {\n",
       "        text-align: right;\n",
       "    }\n",
       "</style>\n",
       "<table border=\"1\" class=\"dataframe\">\n",
       "  <thead>\n",
       "    <tr style=\"text-align: right;\">\n",
       "      <th></th>\n",
       "      <th>Player</th>\n",
       "      <th>100</th>\n",
       "    </tr>\n",
       "  </thead>\n",
       "  <tbody>\n",
       "    <tr>\n",
       "      <th>0</th>\n",
       "      <td>SR Tendulkar (INDIA)</td>\n",
       "      <td>100</td>\n",
       "    </tr>\n",
       "    <tr>\n",
       "      <th>2</th>\n",
       "      <td>RT Ponting (AUS/ICC)</td>\n",
       "      <td>71</td>\n",
       "    </tr>\n",
       "    <tr>\n",
       "      <th>6</th>\n",
       "      <td>V Kohli (INDIA)</td>\n",
       "      <td>71</td>\n",
       "    </tr>\n",
       "    <tr>\n",
       "      <th>1</th>\n",
       "      <td>KC Sangakkara (Asia/ICC/SL)</td>\n",
       "      <td>63</td>\n",
       "    </tr>\n",
       "    <tr>\n",
       "      <th>4</th>\n",
       "      <td>JH Kallis (Afr/ICC/SA)</td>\n",
       "      <td>62</td>\n",
       "    </tr>\n",
       "  </tbody>\n",
       "</table>\n",
       "</div>"
      ],
      "text/plain": [
       "                        Player  100\n",
       "0         SR Tendulkar (INDIA)  100\n",
       "2         RT Ponting (AUS/ICC)   71\n",
       "6              V Kohli (INDIA)   71\n",
       "1  KC Sangakkara (Asia/ICC/SL)   63\n",
       "4       JH Kallis (Afr/ICC/SA)   62"
      ]
     },
     "execution_count": 17,
     "metadata": {},
     "output_type": "execute_result"
    }
   ],
   "source": [
    "top_five_century= df[['Player','100']].sort_values(by='100',ascending=False)[:5]\n",
    "top_five_century"
   ]
  },
  {
   "cell_type": "code",
   "execution_count": 18,
   "id": "ed38bb95",
   "metadata": {
    "execution": {
     "iopub.execute_input": "2022-10-28T22:33:50.092572Z",
     "iopub.status.busy": "2022-10-28T22:33:50.091513Z",
     "iopub.status.idle": "2022-10-28T22:33:50.238756Z",
     "shell.execute_reply": "2022-10-28T22:33:50.237952Z"
    },
    "papermill": {
     "duration": 0.159801,
     "end_time": "2022-10-28T22:33:50.241224",
     "exception": false,
     "start_time": "2022-10-28T22:33:50.081423",
     "status": "completed"
    },
    "tags": []
   },
   "outputs": [
    {
     "data": {
      "image/png": "[encoded data removed]",
      "text/plain": [
       "<Figure size 432x288 with 1 Axes>"
      ]
     },
     "metadata": {
      "needs_background": "light"
     },
     "output_type": "display_data"
    }
   ],
   "source": [
    "sns.barplot(x='Player',y='100',data=top_five_century)\n",
    "plt.xticks(rotation=75)\n",
    "plt.show()"
   ]
  },
  {
   "cell_type": "code",
   "execution_count": null,
   "id": "4492919f",
   "metadata": {
    "papermill": {
     "duration": 0.00904,
     "end_time": "2022-10-28T22:33:50.260191",
     "exception": false,
     "start_time": "2022-10-28T22:33:50.251151",
     "status": "completed"
    },
    "tags": []
   },
   "outputs": [],
   "source": []
  },
  {
   "cell_type": "code",
   "execution_count": null,
   "id": "8b62bd3c",
   "metadata": {
    "papermill": {
     "duration": 0.009415,
     "end_time": "2022-10-28T22:33:50.279268",
     "exception": false,
     "start_time": "2022-10-28T22:33:50.269853",
     "status": "completed"
    },
    "tags": []
   },
   "outputs": [],
   "source": []
  },
  {
   "cell_type": "code",
   "execution_count": null,
   "id": "720306b7",
   "metadata": {
    "papermill": {
     "duration": 0.009033,
     "end_time": "2022-10-28T22:33:50.298057",
     "exception": false,
     "start_time": "2022-10-28T22:33:50.289024",
     "status": "completed"
    },
    "tags": []
   },
   "outputs": [],
   "source": []
  }
 ],
 "metadata": {
  "kernelspec": {
   "display_name": "Python 3",
   "language": "python",
   "name": "python3"
  },
  "language_info": {
   "codemirror_mode": {
    "name": "ipython",
    "version": 3
   },
   "file_extension": ".py",
   "mimetype": "text/x-python",
   "name": "python",
   "nbconvert_exporter": "python",
   "pygments_lexer": "ipython3",
   "version": "3.7.12"
  },
  "papermill": {
   "default_parameters": {},
   "duration": 11.371946,
   "end_time": "2022-10-28T22:33:51.230159",
   "environment_variables": {},
   "exception": null,
   "input_path": "__notebook__.ipynb",
   "output_path": "__notebook__.ipynb",
   "parameters": {},
   "start_time": "2022-10-28T22:33:39.858213",
   "version": "2.3.4"
  }
 },
 "nbformat": 4,
 "nbformat_minor": 5
}
